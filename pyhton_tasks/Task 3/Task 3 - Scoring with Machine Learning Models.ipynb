{
 "cells": [
  {
   "cell_type": "markdown",
   "metadata": {},
   "source": [
    "### Problem Description"
   ]
  },
  {
   "cell_type": "markdown",
   "metadata": {},
   "source": [
    "The data science team in your company was working on a machine learning model that can help doctors in diagnosing diabetes. Then, the deployment team decided that the model itself (given in `model.h5` file) will be on server side so you have to provide the following:"
   ]
  },
  {
   "cell_type": "markdown",
   "metadata": {},
   "source": [
    "- A scoring script that uses the h5 file to predict the outcome of each patient.\n",
    "- The given file `pima-indians-diabetes.data.csv` should be injected to the database under the name of **diabetes_unscored**\n",
    "- Your script must listen to the database and take the newly added records in **diabetes_unscored**, run the model on them, and put them back in a new table **diabetes_scored**.\n",
    "- Your script should be a scheduled task that will run every hour."
   ]
  },
  {
   "cell_type": "markdown",
   "metadata": {},
   "source": [
    "So, the deployment team will be able to inject data in a table and retrieve the prediction output from the other table."
   ]
  },
  {
   "cell_type": "markdown",
   "metadata": {},
   "source": [
    "#### Best of luck!"
   ]
  },
  {
   "cell_type": "code",
   "execution_count": null,
   "metadata": {},
   "outputs": [],
   "source": []
  }
 ],
 "metadata": {
  "kernelspec": {
   "display_name": "Python 3",
   "language": "python",
   "name": "python3"
  },
  "language_info": {
   "codemirror_mode": {
    "name": "ipython",
    "version": 3
   },
   "file_extension": ".py",
   "mimetype": "text/x-python",
   "name": "python",
   "nbconvert_exporter": "python",
   "pygments_lexer": "ipython3",
   "version": "3.7.4"
  }
 },
 "nbformat": 4,
 "nbformat_minor": 2
}
